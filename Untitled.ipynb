{
 "cells": [
  {
   "cell_type": "code",
   "execution_count": 15,
   "metadata": {},
   "outputs": [
    {
     "data": {
      "text/plain": [
       "[['おいしい', 'ビール', 'を', '飲む'],\n",
       " ['コーヒー', 'を', '飲む'],\n",
       " ['おいしい', 'クラフト', 'ビール', 'を', '買う']]"
      ]
     },
     "execution_count": 15,
     "metadata": {},
     "output_type": "execute_result"
    }
   ],
   "source": [
    "from janome.tokenizer import Tokenizer\n",
    "\n",
    "t = Tokenizer()\n",
    "sentences = [\n",
    "    'おいしいビールを飲む', 'コーヒーを飲む', 'おいしいクラフトビールを買う'\n",
    "]\n",
    "\n",
    "words_list = []\n",
    "for sentence in sentences:\n",
    "    words_list.append(t.tokenize(sentence, wakati=True))\n",
    "words_list"
   ]
  },
  {
   "cell_type": "code",
   "execution_count": 16,
   "metadata": {},
   "outputs": [
    {
     "data": {
      "text/plain": [
       "['おいしい', 'ビール', 'を', '飲む', 'コーヒー', 'クラフト', '買う']"
      ]
     },
     "execution_count": 16,
     "metadata": {},
     "output_type": "execute_result"
    }
   ],
   "source": [
    "unique_words = []\n",
    "for words in words_list:\n",
    "    for word in words:\n",
    "        if word not in unique_words:\n",
    "            unique_words.append(word)\n",
    "unique_words"
   ]
  },
  {
   "cell_type": "code",
   "execution_count": 17,
   "metadata": {},
   "outputs": [
    {
     "data": {
      "text/plain": [
       "[[1, 1, 1, 1, 0, 0, 0], [0, 0, 1, 1, 1, 0, 0], [1, 1, 1, 0, 0, 1, 1]]"
      ]
     },
     "execution_count": 17,
     "metadata": {},
     "output_type": "execute_result"
    }
   ],
   "source": [
    "bow_list = []\n",
    "for words in words_list:\n",
    "    bag_of_words = []\n",
    "    for unique_word in unique_words:\n",
    "        num = words.count(unique_word)\n",
    "        bag_of_words.append(num)\n",
    "    bow_list.append(bag_of_words)\n",
    "bow_list"
   ]
  },
  {
   "cell_type": "code",
   "execution_count": 25,
   "metadata": {},
   "outputs": [
    {
     "data": {
      "text/plain": [
       "[0.28768207245178085,\n",
       " 0.28768207245178085,\n",
       " 0.0,\n",
       " 0.28768207245178085,\n",
       " 0.6931471805599453,\n",
       " 0.6931471805599453,\n",
       " 0.6931471805599453]"
      ]
     },
     "execution_count": 25,
     "metadata": {},
     "output_type": "execute_result"
    }
   ],
   "source": [
    "from math import log\n",
    "num_of_sentences = len(sentences)\n",
    "idf = []\n",
    "for i in range(len(unique_words)):\n",
    "    count = 0\n",
    "    for bow in bow_list:\n",
    "        if bow[i] > 0:\n",
    "            count += 1\n",
    "    idf.append(log((num_of_sentences + 1) / (count + 1)))\n",
    "idf"
   ]
  },
  {
   "cell_type": "code",
   "execution_count": 26,
   "metadata": {},
   "outputs": [
    {
     "data": {
      "text/plain": [
       "[0.0,\n",
       " 0.0,\n",
       " 0.3333333333333333,\n",
       " 0.42922735748392693,\n",
       " 0.5643823935199818,\n",
       " 0.0,\n",
       " 0.0]"
      ]
     },
     "execution_count": 26,
     "metadata": {},
     "output_type": "execute_result"
    }
   ],
   "source": [
    "bow = bow_list[1]\n",
    "num_of_words = sum(bow)\n",
    "tfidf = []\n",
    "for i, value in enumerate(bow):\n",
    "    tf = value / num_of_words\n",
    "    tfidf.append(tf * (idf[i] + 1))\n",
    "tfidf"
   ]
  },
  {
   "cell_type": "code",
   "execution_count": null,
   "metadata": {},
   "outputs": [],
   "source": []
  }
 ],
 "metadata": {
  "kernelspec": {
   "display_name": "Python 3",
   "language": "python",
   "name": "python3"
  },
  "language_info": {
   "codemirror_mode": {
    "name": "ipython",
    "version": 3
   },
   "file_extension": ".py",
   "mimetype": "text/x-python",
   "name": "python",
   "nbconvert_exporter": "python",
   "pygments_lexer": "ipython3",
   "version": "3.8.3"
  }
 },
 "nbformat": 4,
 "nbformat_minor": 4
}
